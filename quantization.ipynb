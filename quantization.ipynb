{
 "cells": [
  {
   "cell_type": "code",
   "execution_count": 1,
   "id": "c9831557-3f12-464f-a8a4-325148d822de",
   "metadata": {},
   "outputs": [],
   "source": [
    "import tensorflow as tf \n",
    "import os "
   ]
  },
  {
   "cell_type": "code",
   "execution_count": 2,
   "id": "9cba9f9d-9cca-4b93-9f15-2914a8f26808",
   "metadata": {},
   "outputs": [
    {
     "data": {
      "text/plain": [
       "['cnn_model.keras',\n",
       " 'cnn_model.zip',\n",
       " 'count_vectorizer.pkl',\n",
       " 'dense_model.keras',\n",
       " 'dense_model.zip',\n",
       " 'LogisticRegression.pkl',\n",
       " 'lstm_model.keras',\n",
       " 'lstm_model.zip',\n",
       " 'MultinomialNB.pkl',\n",
       " 'Perceptron.pkl',\n",
       " 'SGDClassifier.pkl',\n",
       " 'stacking_model.pkl',\n",
       " 'voting.pkl']"
      ]
     },
     "execution_count": 2,
     "metadata": {},
     "output_type": "execute_result"
    }
   ],
   "source": [
    "os.listdir('models')"
   ]
  },
  {
   "cell_type": "code",
   "execution_count": 19,
   "id": "1053b799-5aef-4bd0-b5c6-11795ec0f5ce",
   "metadata": {},
   "outputs": [
    {
     "name": "stdout",
     "output_type": "stream",
     "text": [
      "INFO:tensorflow:Assets written to: C:\\Users\\hp\\AppData\\Local\\Temp\\tmpd9jxg5gq\\assets\n"
     ]
    },
    {
     "name": "stderr",
     "output_type": "stream",
     "text": [
      "INFO:tensorflow:Assets written to: C:\\Users\\hp\\AppData\\Local\\Temp\\tmpd9jxg5gq\\assets\n"
     ]
    },
    {
     "name": "stdout",
     "output_type": "stream",
     "text": [
      "Saved artifact at 'C:\\Users\\hp\\AppData\\Local\\Temp\\tmpd9jxg5gq'. The following endpoints are available:\n",
      "\n",
      "* Endpoint 'serve'\n",
      "  args_0 (POSITIONAL_ONLY): TensorSpec(shape=(None, 128), dtype=tf.float32, name='input_layer_1')\n",
      "Output Type:\n",
      "  TensorSpec(shape=(None, 1), dtype=tf.float32, name=None)\n",
      "Captures:\n",
      "  1823161346448: TensorSpec(shape=(), dtype=tf.resource, name=None)\n",
      "  1823161345872: TensorSpec(shape=(), dtype=tf.resource, name=None)\n",
      "  1823161347216: TensorSpec(shape=(), dtype=tf.resource, name=None)\n",
      "  1823161348176: TensorSpec(shape=(), dtype=tf.resource, name=None)\n",
      "  1823161349136: TensorSpec(shape=(), dtype=tf.resource, name=None)\n",
      "  1823161349712: TensorSpec(shape=(), dtype=tf.resource, name=None)\n",
      "  1823161350672: TensorSpec(shape=(), dtype=tf.resource, name=None)\n"
     ]
    }
   ],
   "source": [
    "cnn_model=tf.keras.models.load_model(r'models\\cnn_model.keras')\n",
    "converter=tf.lite.TFLiteConverter.from_keras_model(cnn_model)\n",
    "# converter.optimizations=tf.lite.Optimize.DEFAULT\n",
    "lite_model=converter.convert()\n"
   ]
  },
  {
   "cell_type": "code",
   "execution_count": 20,
   "id": "257cfff6-19e5-43a4-b7a1-5de5d098e73d",
   "metadata": {},
   "outputs": [
    {
     "data": {
      "text/plain": [
       "12205344"
      ]
     },
     "execution_count": 20,
     "metadata": {},
     "output_type": "execute_result"
    }
   ],
   "source": [
    "len(lite_model)"
   ]
  },
  {
   "cell_type": "code",
   "execution_count": 9,
   "id": "7f67eafe-589f-4ccf-b230-6c97f92655d7",
   "metadata": {},
   "outputs": [
    {
     "data": {
      "text/plain": [
       "['.git',\n",
       " '.gitignore',\n",
       " '.ipynb_checkpoints',\n",
       " 'arabic-companies-sa.ipynb',\n",
       " 'arial.ttf',\n",
       " 'CompanyReviews.csv',\n",
       " 'flagged',\n",
       " 'Gradio app of arabic reviews sentiment analysis.mp4',\n",
       " 'gradio.wmv',\n",
       " 'linkedin.txt',\n",
       " 'merge.py',\n",
       " 'merged.mp4',\n",
       " 'models',\n",
       " 'quantization.ipynb',\n",
       " 'README.md',\n",
       " 'results',\n",
       " 'تعديلات_ممكن_تتضاف.txt']"
      ]
     },
     "execution_count": 9,
     "metadata": {},
     "output_type": "execute_result"
    }
   ],
   "source": [
    "os.listdir()"
   ]
  },
  {
   "cell_type": "code",
   "execution_count": 11,
   "id": "48346bab-6c4b-47d9-a377-e6b1e410df8c",
   "metadata": {},
   "outputs": [
    {
     "data": {
      "text/html": [
       "<div>\n",
       "<style scoped>\n",
       "    .dataframe tbody tr th:only-of-type {\n",
       "        vertical-align: middle;\n",
       "    }\n",
       "\n",
       "    .dataframe tbody tr th {\n",
       "        vertical-align: top;\n",
       "    }\n",
       "\n",
       "    .dataframe thead th {\n",
       "        text-align: right;\n",
       "    }\n",
       "</style>\n",
       "<table border=\"1\" class=\"dataframe\">\n",
       "  <thead>\n",
       "    <tr style=\"text-align: right;\">\n",
       "      <th></th>\n",
       "      <th>Unnamed: 0</th>\n",
       "      <th>review_description</th>\n",
       "      <th>rating</th>\n",
       "      <th>company</th>\n",
       "    </tr>\n",
       "  </thead>\n",
       "  <tbody>\n",
       "    <tr>\n",
       "      <th>0</th>\n",
       "      <td>0</td>\n",
       "      <td>رائع</td>\n",
       "      <td>1</td>\n",
       "      <td>talbat</td>\n",
       "    </tr>\n",
       "    <tr>\n",
       "      <th>1</th>\n",
       "      <td>1</td>\n",
       "      <td>برنامج رائع جدا يساعد على تلبيه الاحتياجات بشك...</td>\n",
       "      <td>1</td>\n",
       "      <td>talbat</td>\n",
       "    </tr>\n",
       "    <tr>\n",
       "      <th>2</th>\n",
       "      <td>2</td>\n",
       "      <td>التطبيق لا يغتح دائما بيعطيني لا يوجد اتصال با...</td>\n",
       "      <td>-1</td>\n",
       "      <td>talbat</td>\n",
       "    </tr>\n",
       "    <tr>\n",
       "      <th>3</th>\n",
       "      <td>3</td>\n",
       "      <td>لماذا لا يمكننا طلب من ماكدونالدز؟</td>\n",
       "      <td>-1</td>\n",
       "      <td>talbat</td>\n",
       "    </tr>\n",
       "    <tr>\n",
       "      <th>4</th>\n",
       "      <td>4</td>\n",
       "      <td>البرنامج بيظهر كل المطاعم و مغلقه مع انها بتكو...</td>\n",
       "      <td>-1</td>\n",
       "      <td>talbat</td>\n",
       "    </tr>\n",
       "    <tr>\n",
       "      <th>...</th>\n",
       "      <td>...</td>\n",
       "      <td>...</td>\n",
       "      <td>...</td>\n",
       "      <td>...</td>\n",
       "    </tr>\n",
       "    <tr>\n",
       "      <th>40028</th>\n",
       "      <td>115</td>\n",
       "      <td>الابليكيشن يدخلنا فى متاهات لا نفهم منها شيء ....</td>\n",
       "      <td>-1</td>\n",
       "      <td>swvl</td>\n",
       "    </tr>\n",
       "    <tr>\n",
       "      <th>40029</th>\n",
       "      <td>116</td>\n",
       "      <td>تجربة سيئة جدا منصحش اى حد بتحميل التطبيق النظ...</td>\n",
       "      <td>-1</td>\n",
       "      <td>swvl</td>\n",
       "    </tr>\n",
       "    <tr>\n",
       "      <th>40035</th>\n",
       "      <td>122</td>\n",
       "      <td>بعد ما اخدت الباقة الاولى ب ١٦٠ جنيه ٣٠ رحلة ب...</td>\n",
       "      <td>-1</td>\n",
       "      <td>swvl</td>\n",
       "    </tr>\n",
       "    <tr>\n",
       "      <th>40037</th>\n",
       "      <td>124</td>\n",
       "      <td>الخدمة جيدة ولكن يرجى تعديل سلوك بعض السائقين ...</td>\n",
       "      <td>1</td>\n",
       "      <td>swvl</td>\n",
       "    </tr>\n",
       "    <tr>\n",
       "      <th>40042</th>\n",
       "      <td>129</td>\n",
       "      <td>انا ساكنة بمنطقة الكينج ولا توجد عربيات قبل ال...</td>\n",
       "      <td>-1</td>\n",
       "      <td>swvl</td>\n",
       "    </tr>\n",
       "  </tbody>\n",
       "</table>\n",
       "<p>38121 rows × 4 columns</p>\n",
       "</div>"
      ],
      "text/plain": [
       "       Unnamed: 0                                 review_description  rating  \\\n",
       "0               0                                               رائع       1   \n",
       "1               1  برنامج رائع جدا يساعد على تلبيه الاحتياجات بشك...       1   \n",
       "2               2  التطبيق لا يغتح دائما بيعطيني لا يوجد اتصال با...      -1   \n",
       "3               3                 لماذا لا يمكننا طلب من ماكدونالدز؟      -1   \n",
       "4               4  البرنامج بيظهر كل المطاعم و مغلقه مع انها بتكو...      -1   \n",
       "...           ...                                                ...     ...   \n",
       "40028         115  الابليكيشن يدخلنا فى متاهات لا نفهم منها شيء ....      -1   \n",
       "40029         116  تجربة سيئة جدا منصحش اى حد بتحميل التطبيق النظ...      -1   \n",
       "40035         122  بعد ما اخدت الباقة الاولى ب ١٦٠ جنيه ٣٠ رحلة ب...      -1   \n",
       "40037         124  الخدمة جيدة ولكن يرجى تعديل سلوك بعض السائقين ...       1   \n",
       "40042         129  انا ساكنة بمنطقة الكينج ولا توجد عربيات قبل ال...      -1   \n",
       "\n",
       "      company  \n",
       "0      talbat  \n",
       "1      talbat  \n",
       "2      talbat  \n",
       "3      talbat  \n",
       "4      talbat  \n",
       "...       ...  \n",
       "40028    swvl  \n",
       "40029    swvl  \n",
       "40035    swvl  \n",
       "40037    swvl  \n",
       "40042    swvl  \n",
       "\n",
       "[38121 rows x 4 columns]"
      ]
     },
     "execution_count": 11,
     "metadata": {},
     "output_type": "execute_result"
    }
   ],
   "source": [
    "import pandas as pd \n",
    "df=pd.read_csv('CompanyReviews.csv')\n",
    "df_1=df[df['rating']!=0]\n",
    "df_1 "
   ]
  },
  {
   "cell_type": "code",
   "execution_count": 17,
   "id": "714f5362-0597-4ac7-8efa-7c298b9a1ccf",
   "metadata": {},
   "outputs": [],
   "source": [
    "if not os.path.exists('lite_models'): \n",
    "     \n",
    "    os.makedirs('lite_models')\n",
    "with open('lite_models\\\\lite_cnn_model.tflite','wb') as f : \n",
    "    f.write(lite_model)"
   ]
  },
  {
   "cell_type": "code",
   "execution_count": null,
   "id": "684593dc-7540-4acf-ab7c-fe9380b4cbae",
   "metadata": {},
   "outputs": [],
   "source": []
  }
 ],
 "metadata": {
  "kernelspec": {
   "display_name": "Python 3 (ipykernel)",
   "language": "python",
   "name": "python3"
  },
  "language_info": {
   "codemirror_mode": {
    "name": "ipython",
    "version": 3
   },
   "file_extension": ".py",
   "mimetype": "text/x-python",
   "name": "python",
   "nbconvert_exporter": "python",
   "pygments_lexer": "ipython3",
   "version": "3.12.4"
  }
 },
 "nbformat": 4,
 "nbformat_minor": 5
}
